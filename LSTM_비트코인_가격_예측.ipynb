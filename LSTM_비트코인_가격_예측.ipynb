{
  "nbformat": 4,
  "nbformat_minor": 0,
  "metadata": {
    "colab": {
      "name": "LSTM 비트코인 가격 예측 0618_2.ipynb",
      "private_outputs": true,
      "provenance": []
    },
    "kernelspec": {
      "name": "python3",
      "display_name": "Python 3"
    },
    "language_info": {
      "name": "python"
    }
  },
  "cells": [
    {
      "cell_type": "code",
      "source": [
        "!pip install pyupbit"
      ],
      "metadata": {
        "id": "cswFnbENrPUA"
      },
      "execution_count": null,
      "outputs": []
    },
    {
      "cell_type": "code",
      "execution_count": null,
      "metadata": {
        "id": "sKpCbPhzrFP8"
      },
      "outputs": [],
      "source": [
        "import time\n",
        "import pyupbit\n",
        "import datetime\n",
        "\n",
        "import numpy as np\n",
        "import pandas as pd\n",
        "import torch"
      ]
    },
    {
      "cell_type": "code",
      "source": [
        "# 20120101~20220430 851일 간의 비트코인 시가 고가 저가 종가 일별 수익률 데이터\n",
        "\n",
        "df = pyupbit.get_ohlcv(\"KRW-BTC\", interval=\"day\", count=852, to=\"20220501\") \n",
        "\n",
        "df['daily_return'] = df['close'].pct_change()\n",
        "df = df.iloc[1:]\n",
        "df = df.drop(['volume','value'],axis=1)"
      ],
      "metadata": {
        "id": "C-iF95lYrPsd"
      },
      "execution_count": null,
      "outputs": []
    },
    {
      "cell_type": "code",
      "source": [
        "from sklearn.model_selection import train_test_split\n",
        "\n",
        "# train, valid, test 로 나누기 \n",
        "\n",
        "train, b = train_test_split(df, test_size=0.2, train_size=0.8, shuffle=False)\n",
        "\n",
        "valid, test = train_test_split(b, test_size=0.5, train_size=0.5, shuffle=False)\n"
      ],
      "metadata": {
        "id": "9swB3GF1rQuk"
      },
      "execution_count": null,
      "outputs": []
    },
    {
      "cell_type": "code",
      "source": [
        "from sklearn.preprocessing import MinMaxScaler\n",
        "\n",
        "scaler = MinMaxScaler()\n",
        "\n",
        "train = pd.DataFrame(scaler.fit_transform(train))\n",
        "valid = pd.DataFrame(scaler.transform(valid))\n",
        "test = pd.DataFrame(scaler.transform(test))\n",
        "\n",
        "\n",
        "train.rename(columns = {0:'open',1:'high',2:'low',3:'close',4:'daily_return'}, inplace = True)\n",
        "valid.rename(columns = {0:'open',1:'high',2:'low',3:'close',4:'daily_return'}, inplace = True)\n",
        "test.rename(columns = {0:'open',1:'high',2:'low',3:'close',4:'daily_return'}, inplace = True)"
      ],
      "metadata": {
        "id": "83tqsXWkrSpE"
      },
      "execution_count": null,
      "outputs": []
    },
    {
      "cell_type": "code",
      "source": [
        "def make_dataset(data, label, window_size=5):\n",
        "    feature_list = []\n",
        "    label_list = []\n",
        "    for i in range(len(data) - window_size):\n",
        "        feature_list.append(np.array(data.iloc[i:i+window_size] ))\n",
        "        label_list.append(np.array(label.iloc[i+window_size] ))\n",
        "    return np.array(feature_list), np.array(label_list)"
      ],
      "metadata": {
        "id": "HHibAzQZrSq6"
      },
      "execution_count": null,
      "outputs": []
    },
    {
      "cell_type": "code",
      "source": [
        "train"
      ],
      "metadata": {
        "id": "O2fpBNMXtNqz"
      },
      "execution_count": null,
      "outputs": []
    },
    {
      "cell_type": "code",
      "source": [
        "feature_cols = ['open','high','low','close','daily_return']\n",
        "label_cols = ['close']\n",
        "\n",
        "train_feature = train[feature_cols]\n",
        "train_label = train[label_cols]\n",
        "\n",
        "valid_feature = valid[feature_cols]\n",
        "valid_label = valid[label_cols]\n",
        "\n",
        "test_feature = test[feature_cols]\n",
        "test_label = test[label_cols]\n",
        "\n",
        "# train dataset\n",
        "train_feature, train_label = make_dataset(train_feature, train_label, 5)\n",
        "\n",
        " # valid dataset \n",
        "valid_feature, valid_label = make_dataset(valid_feature, valid_label, 5)\n",
        "\n",
        " # test dataset (실제 예측 해볼 데이터)\n",
        "test_feature, test_label = make_dataset(test_feature, test_label, 5)"
      ],
      "metadata": {
        "id": "cQLN_MW4rSsx"
      },
      "execution_count": null,
      "outputs": []
    },
    {
      "cell_type": "code",
      "source": [
        "# print(train_feature.shape, train_label.shape)\n",
        "# print(valid_feature.shape, valid_label.shape)\n",
        "# print(test_feature.shape, test_label.shape)"
      ],
      "metadata": {
        "id": "FVKPL0YtrSui"
      },
      "execution_count": null,
      "outputs": []
    },
    {
      "cell_type": "code",
      "source": [
        "from keras.models import Sequential\n",
        "from keras.layers import Dense, Dropout\n",
        "from keras.callbacks import EarlyStopping, ModelCheckpoint\n",
        "from keras.layers import LSTM\n",
        "\n",
        "model = Sequential()\n",
        "model.add(LSTM(30, # unit 수 변경 \n",
        "               input_shape=(train_feature.shape[1], train_feature.shape[2]), \n",
        "               activation='relu', \n",
        "               return_sequences=False)\n",
        "          )\n",
        "\n",
        "# model.add(Dense(units=10))\n",
        "# model.add(Dropout(0.1))\n",
        "\n",
        "model.add(Dense(1))"
      ],
      "metadata": {
        "id": "S65s4KMTrSwX"
      },
      "execution_count": null,
      "outputs": []
    },
    {
      "cell_type": "code",
      "source": [
        "import os\n",
        "import tensorflow as tf\n",
        "opt = tf.keras.optimizers.Adam(learning_rate=0.01)\n",
        "\n",
        "model.compile(loss='mean_squared_error', optimizer= opt)\n",
        "early_stop = EarlyStopping(monitor='val_loss', patience=5)\n",
        "#filename = os.path.join(path, 'tmp_checkpoint.h5')\n",
        "#checkpoint = ModelCheckpoint(filename, monitor='val_loss', verbose=1, save_best_only=True, mode='auto')\n",
        "\n",
        "history = model.fit(train_feature, train_label, \n",
        "                    epochs=30, \n",
        "                    batch_size=1,\n",
        "                    validation_data=(valid_feature,valid_label),\n",
        "                    callbacks=[early_stop]) #callbacks=[early_stop,checkpoint]\n",
        "\n",
        "\n"
      ],
      "metadata": {
        "id": "D8KHdFpjtYci"
      },
      "execution_count": null,
      "outputs": []
    },
    {
      "cell_type": "code",
      "source": [
        "# history \n",
        "import matplotlib.pyplot as plt\n",
        "loss = history.history['loss']\n",
        "val_loss = history.history['val_loss']\n",
        "epochs = range(1, len(loss)+1)\n",
        "plt.figure()\n",
        "plt.plot(epochs, loss, label='Training loss')\n",
        "plt.plot(epochs, val_loss, label='Validation loss')\n",
        "plt.title('Training and Valdation loss')\n",
        "plt.legend()\n",
        "plt.show()  "
      ],
      "metadata": {
        "id": "ray8u0yMtaBi"
      },
      "execution_count": null,
      "outputs": []
    },
    {
      "cell_type": "code",
      "source": [
        "# 예측\n",
        "pred = model.predict(test_feature)"
      ],
      "metadata": {
        "id": "g1vMTRDfteNI"
      },
      "execution_count": null,
      "outputs": []
    },
    {
      "cell_type": "code",
      "source": [
        "from sklearn.metrics import mean_squared_error \n",
        "\n",
        "MSE_test = mean_squared_error(test_label,pred) \n",
        "\n",
        "print('test RMSE:', np.sqrt(MSE_test))\n",
        "\n",
        "train_pred = model.predict(train_feature)\n",
        "train_MSE = mean_squared_error(train_label, train_pred) \n",
        "\n",
        "print('train RMSE:', np.sqrt(train_MSE))"
      ],
      "metadata": {
        "id": "mejh3P35tgx2"
      },
      "execution_count": null,
      "outputs": []
    },
    {
      "cell_type": "code",
      "source": [
        "pd.Series(pred.squeeze()).plot()"
      ],
      "metadata": {
        "id": "sa_SW_TKtgzc"
      },
      "execution_count": null,
      "outputs": []
    },
    {
      "cell_type": "code",
      "source": [
        "pred.shape"
      ],
      "metadata": {
        "id": "96d4wiwAtg1O"
      },
      "execution_count": null,
      "outputs": []
    },
    {
      "cell_type": "code",
      "source": [
        "# inverse transform을 위해 다시 차원을 처음 데이터의 열 개수와 같게 만듦\n",
        "\n",
        "df_pred = pd.DataFrame(index=range(0,pred.shape[0]), columns=['open', 'high','low','close','volume'])\n",
        "df_pred = df_pred.fillna(0)\n",
        "df_pred['close'] = pred\n",
        "df_pred"
      ],
      "metadata": {
        "id": "RJbgpimgtnx4"
      },
      "execution_count": null,
      "outputs": []
    },
    {
      "cell_type": "code",
      "source": [
        "inverse_pred = scaler.inverse_transform(df_pred)[:,3] # close : 3 \n",
        "\n",
        "# 실제와 예측 비트코인 가격의 데이터프레임 만든 뒤 plot 그리기\n",
        "\n",
        "real_close_value = pd.DataFrame(df.iloc[-pred.shape[0]:,3]) # close : 3\n",
        "\n",
        "real_close_value['inverse_pred'] = inverse_pred\n",
        "\n",
        "real_close_value.rename(columns={'close':'Actual', 'inverse_pred':'Prediction'},inplace=True)\n",
        "\n",
        "real_close_value.plot(figsize=(8,8))\n",
        "\n",
        "real_close_value"
      ],
      "metadata": {
        "id": "5NxmRhgxtnzm"
      },
      "execution_count": null,
      "outputs": []
    },
    {
      "cell_type": "code",
      "source": [
        "# scaler.inverse_transform(df_pred)"
      ],
      "metadata": {
        "id": "XXweVctRtn1j"
      },
      "execution_count": null,
      "outputs": []
    },
    {
      "cell_type": "markdown",
      "source": [
        "# 모델 저장"
      ],
      "metadata": {
        "id": "ELizooQpENl1"
      }
    },
    {
      "cell_type": "code",
      "source": [
        "model.save('lstm_predict.h5')\n",
        "new_model = tf.keras.models.load_model('lstm_predict.h5')\n",
        "\n",
        "# test_loss, test_acc = new_model.evaluate(x,  y, verbose=2)"
      ],
      "metadata": {
        "id": "msZy7Mp2EM1c"
      },
      "execution_count": null,
      "outputs": []
    },
    {
      "cell_type": "markdown",
      "source": [
        "# 저장한 모델 다시 사용"
      ],
      "metadata": {
        "id": "PpjVsMnwHO1Z"
      }
    },
    {
      "cell_type": "code",
      "source": [
        "pred = new_model.predict(test_feature)\n",
        "\n",
        "\n",
        "# inverse transform을 위해 다시 차원을 처음 데이터의 열 개수와 같게 만듦\n",
        "\n",
        "df_pred = pd.DataFrame(index=range(0,pred.shape[0]), columns=['open', 'high','low','close','volume'])\n",
        "df_pred = df_pred.fillna(0)\n",
        "df_pred['close'] = pred\n",
        "df_pred\n",
        "\n",
        "\n",
        "inverse_pred = scaler.inverse_transform(df_pred)[:,3] # close : 3 \n",
        "\n",
        "# 실제와 예측 비트코인 가격의 데이터프레임 만든 뒤 plot 그리기\n",
        "\n",
        "real_close_value = pd.DataFrame(df.iloc[-pred.shape[0]:,3]) # close : 3\n",
        "\n",
        "real_close_value['inverse_pred'] = inverse_pred\n",
        "\n",
        "real_close_value.rename(columns={'close':'Actual', 'inverse_pred':'Prediction'},inplace=True)\n",
        "\n",
        "real_close_value.plot(figsize=(8,8))\n",
        "\n",
        "real_close_value"
      ],
      "metadata": {
        "id": "CZKtn1L5GiNX"
      },
      "execution_count": null,
      "outputs": []
    },
    {
      "cell_type": "markdown",
      "source": [
        "# 투자 성과 결과"
      ],
      "metadata": {
        "id": "kU7L2XzzZprW"
      }
    },
    {
      "cell_type": "code",
      "source": [
        "from google.colab import drive\n",
        "drive.mount('/content/gdrive')\n",
        "path = '/gdrive/MyDrive/융합소프트웨어프로젝트/프로젝트/혜준'"
      ],
      "metadata": {
        "id": "qTLqKEHILW27"
      },
      "execution_count": null,
      "outputs": []
    },
    {
      "cell_type": "markdown",
      "source": [
        "# 1번 단순 변동성 투자 전략 "
      ],
      "metadata": {
        "id": "dX6kyzV1IFvI"
      }
    },
    {
      "cell_type": "code",
      "source": [
        "import pyupbit\n",
        "import numpy as np\n",
        "\n",
        "# OHLCV\n",
        "df1 = pyupbit.get_ohlcv(\"KRW-BTC\",count=81, to= '20220501') # 81의 예측 \n",
        "\n",
        "\n",
        "## 매수가 구하기 위해 작성된 코드 \n",
        "\n",
        "# 변동폭 * k계사, (고가-저가)*k값\n",
        "df1['range'] = (df1['high'] - df1['low']) * 0.2 # besk k= 0.8\n",
        "\n",
        "# target(매수가), range 컬럼 한칸씩 밑으로 내림 \n",
        "df1['target'] = df1['open'] + df1['range'].shift(1) # 어제 변동폭\n",
        "\n",
        "\n",
        "\n",
        "fee = 0.0005\n",
        "# ror(수익률), np.where(조건문, 참일때 값, 거짓일때 값)\n",
        "df1['ror'] = np.where(df1['high'] > df1['target'], # 매수 진행된 상황\n",
        "                      \n",
        "                     (df1['close'] - fee*(df1['close']+df1['target'])) / df1['target'], # 종가에서 전부 매도 # 종가/목표가: 수익률\n",
        "                     \n",
        "                     1) # 매수 진행 안하면 그대로\n",
        "\n",
        "# 누적 곱 계산(cumprod) => 누적 수익률\n",
        "df1['hpr'] = df1['ror'].cumprod() \n",
        "\n",
        "# Draw Down(하락폭) 계산 (누적 최대값과 현재 hpr차이 / 누적최대값 * 100)\n",
        "df1['dd'] = (df1['hpr'].cummax() - df1['hpr']) / df1['hpr'].cummax() * 100\n",
        "\n",
        "\n",
        "\n",
        "# MDD 계산 (DD중 최대값)\n",
        "print(\"MDD(%): \", df1['dd'].max())\n",
        "\n",
        "\n",
        "\n",
        "\n",
        "\n",
        "print(df1)\n",
        "# print(df1.head())\n",
        "\n",
        "\n",
        "df1.reset_index(inplace=True)\n",
        "\n",
        "df1['index'] = df1['index'].apply(lambda a: pd.to_datetime(a).date())\n",
        "\n",
        "df1.to_excel(\"df1.xlsx\")"
      ],
      "metadata": {
        "id": "iaRRg-yJH2oG"
      },
      "execution_count": null,
      "outputs": []
    },
    {
      "cell_type": "markdown",
      "source": [
        "# 2번 LSTM + 변동성 투자 전략"
      ],
      "metadata": {
        "id": "jHIcTqlXL0c-"
      }
    },
    {
      "cell_type": "code",
      "source": [
        "df2_2 = pyupbit.get_ohlcv(\"KRW-BTC\",count=86, to='20220501') # 86일 test \n",
        "\n",
        "\n",
        "df2_2_sc = pd.DataFrame(scaler.fit_transform(df2_2.iloc[:,0:-1]))\n",
        "\n",
        "\n",
        "\n",
        "\n",
        "real_test_feature = df2_2_sc\n",
        "real_test_label = df2_2_sc.iloc[:,3]\n",
        "\n",
        "# test dataset (실제 예측 해볼 데이터)\n",
        "real_test_feature, real_test_label = make_dataset(real_test_feature, real_test_label, 5)\n",
        "\n",
        "real_test_feature.shape\n",
        "\n",
        "# 예측\n",
        "norm_pred = new_model.predict(real_test_feature)\n",
        "\n",
        "real_df_pred = pd.DataFrame(index=range(0,real_test_feature.shape[0]), columns=['open', 'high','low','close','volume'])\n",
        "real_df_pred = real_df_pred.fillna(0)\n",
        "real_df_pred['close'] = norm_pred\n",
        "\n",
        "pred_value = scaler.inverse_transform(real_df_pred)[:,3]\n",
        "\n",
        "import pyupbit\n",
        "import numpy as np\n",
        "\n",
        "# OHLCV\n",
        "df2 = pyupbit.get_ohlcv(\"KRW-BTC\",count=81, to='20220501') # 81일의 예측 결과\n",
        "print(len(df2))\n",
        "\n",
        "## 매수가 구하기 위해 작성된 코드 \n",
        "\n",
        "# 변동폭 * k계사, (고가-저가)*k값\n",
        "df2['range'] = (df2['high'] - df2['low']) * 0.2\n",
        "# target(매수가), range 컬럼 한칸씩 밑으로 내림 \n",
        "df2['target'] = df2['open'] + df2['range'].shift(1) # 어제 변동폭\n",
        "\n",
        "# LSTM예측 결과를 df2에 붙여넣기 \n",
        "df2['LSTM_pred'] = pred_value\n",
        "\n",
        "\n",
        "fee = 0.0005\n",
        "# 안정적인 투자 위함이다.\n",
        "# ror(수익률), np.where(조건문, 참일때 값, 거짓일때 값)\n",
        "df2['ror'] = np.where(((df2['high'] > df2['target']) & (df2['target'] < df2['LSTM_pred'])), # 매수 진행된 상황 # 오늘 예측 종가가 오늘의 시가보다는 커야한다는 조건 추가(상승장인지) \n",
        "                     (df2['close'] - fee*( df2['close'] + df2['target'] ))/ df2['target'], # 종가에서 전부 매도 # 종가/목표가: 수익률\n",
        "                     1) # 매수 진행 안하면 그대로\n",
        "\n",
        "# 누적 곱 계산(cumprod) => 누적 수익률\n",
        "df2['hpr'] = df2['ror'].cumprod()\n",
        "\n",
        "# Draw Down(하락폭) 계산 (누적 최대값과 현재 hpr차이 / 누적최대값 * 100)\n",
        "df2['dd'] = (df2['hpr'].cummax() - df2['hpr']) / df2['hpr'].cummax() * 100\n",
        "\n",
        "\n",
        "# MDD 계산 (DD중 최대값)\n",
        "print(\"MDD(%): \", df2['dd'].max())\n",
        "\n",
        "print(df2)\n",
        "\n",
        "\n",
        "\n",
        "\n",
        "\n",
        "df2.reset_index(inplace=True)\n",
        "\n",
        "df2['index'] = df2['index'].apply(lambda a: pd.to_datetime(a).date())\n",
        "\n",
        "df2.to_excel(\"df2.xlsx\")\n"
      ],
      "metadata": {
        "id": "Z8P434JPH2qK"
      },
      "execution_count": null,
      "outputs": []
    },
    {
      "cell_type": "markdown",
      "source": [
        "# 3번 buy and hold"
      ],
      "metadata": {
        "id": "1vTTYalVILJL"
      }
    },
    {
      "cell_type": "code",
      "source": [
        "df3 = pyupbit.get_ohlcv(\"KRW-BTC\",count=81, to='20220501') # 7일 # ohlcv 당일시가고가저가종가거래량\n",
        "\n",
        "df3.reset_index(inplace=True)\n",
        "\n",
        "df3['index'] = df3['index'].apply(lambda a: pd.to_datetime(a).date())"
      ],
      "metadata": {
        "id": "J6raGPSfH2r8"
      },
      "execution_count": null,
      "outputs": []
    },
    {
      "cell_type": "code",
      "source": [
        "# 일일 수익률 \n",
        "df3['ror'] = ((df3['close']*100).pct_change())+1\n",
        "\n",
        "\n",
        "# 누적 수익률 \n",
        "df3['hpr'] = df3['ror'].cumprod()\n",
        "\n",
        "\n",
        "# Draw Down(하락폭) 계산 (누적 최대값과 현재 hpr차이 / 누적최대값 * 100)\n",
        "df3['dd'] = (df3['hpr'].cummax() - df3['hpr']) / df3['hpr'].cummax() * 100\n",
        "\n",
        "\n",
        "# MDD 계산 (DD중 최대값)\n",
        "print(\"MDD(%): \", df3['dd'].max())\n",
        "\n",
        "print(df3)\n",
        "\n",
        "df3.to_excel(\"df3.xlsx\")\n",
        "\n"
      ],
      "metadata": {
        "id": "jnFC1J_1H2t_"
      },
      "execution_count": null,
      "outputs": []
    },
    {
      "cell_type": "code",
      "source": [
        "# 평균 수익률\n",
        "print(sum(df3['ror'].dropna()) / len(df3['ror'].dropna()))\n",
        "\n",
        "# 표준편차\n",
        "print(df3['ror'].dropna().std())"
      ],
      "metadata": {
        "id": "3SLxhn8fH2wC"
      },
      "execution_count": null,
      "outputs": []
    }
  ]
}